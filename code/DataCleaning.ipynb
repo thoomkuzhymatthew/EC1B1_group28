{
 "cells": [
  {
   "cell_type": "markdown",
   "metadata": {},
   "source": [
    "# Data Cleaning\n",
    "---\n",
    "\n",
    "\n",
    "**Objective:** to get the data for the following information for all countries from December 1959 to December 1990\n",
    "\n",
    "\n",
    "1. Industrial production (Index)\n",
    "\n",
    "2. Exchange rates, National Currency per US dollar (Period Average)\n",
    "\n",
    "3. Consumer prices (All items), index\n",
    "\n",
    "4. International Reserves and Liquidity (Reserves, Official Reserve Assets, US Dollar)\n",
    "\n",
    "5. Data for consumer prices and international reserves for the United States only over the same time period.\n"
   ]
  },
  {
   "cell_type": "markdown",
   "metadata": {},
   "source": [
    "---"
   ]
  },
  {
   "cell_type": "markdown",
   "metadata": {},
   "source": [
    "# 1. Downloading the data"
   ]
  },
  {
   "cell_type": "markdown",
   "metadata": {},
   "source": [
    "We will be collecting the data from ['IMF data portal'](https://data.imf.org/?sk=4c514d48-b6ba-49ed-8ab9-52b0c1a0179b&sid=1390030341854) using the query function to get desired data"
   ]
  },
  {
   "cell_type": "markdown",
   "metadata": {},
   "source": []
  }
 ],
 "metadata": {
  "language_info": {
   "name": "python"
  }
 },
 "nbformat": 4,
 "nbformat_minor": 2
}
