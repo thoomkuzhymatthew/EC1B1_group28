{
 "cells": [
  {
   "cell_type": "markdown",
   "metadata": {},
   "source": [
    "# Data Cleaning\n",
    "---\n",
    "\n",
    "\n",
    "**Objective:** to get the data for the following information for all countries from December 1959 to December 1990\n",
    "\n",
    "\n",
    "1. Industrial production (Index)\n",
    "\n",
    "2. Exchange rates, National Currency per US dollar (Period Average)\n",
    "\n",
    "3. Consumer prices (All items), index\n",
    "\n",
    "4. International Reserves and Liquidity (Reserves, Official Reserve Assets, US Dollar)\n",
    "\n",
    "5. Data for consumer prices and international reserves for the United States only over the same time period.\n"
   ]
  },
  {
   "cell_type": "markdown",
   "metadata": {},
   "source": [
    "---"
   ]
  },
  {
   "cell_type": "markdown",
   "metadata": {},
   "source": [
    "# 1. Downloading the data"
   ]
  },
  {
   "cell_type": "markdown",
   "metadata": {},
   "source": [
    "We collected the data from ['IMF data portal'](https://data.imf.org/?sk=4c514d48-b6ba-49ed-8ab9-52b0c1a0179b&sid=1390030341854) using the query function to get desired data\n",
    "\n",
    "the desired data for Germany and the USA can be found in 2 seperate excel files in the data folder of the repository, titled Germany and the USA respectively\n",
    "\n"
   ]
  },
  {
   "cell_type": "markdown",
   "metadata": {},
   "source": [
    "---\n",
    "# 2. Cleaning the data"
   ]
  },
  {
   "cell_type": "markdown",
   "metadata": {},
   "source": [
    "importing and merging the 2 data sets:\n",
    "\n",
    "import pandas as pd\n",
    "\n",
    "# Read the Excel files\n",
    "usa_df = pd.read_excel('../data/USA.xlsx')\n",
    "germany_df = pd.read_excel('../data/Germany.xlsx')\n",
    "\n",
    "# Add a column 'country' to each DataFrame\n",
    "usa_df['country'] = 'USA'\n",
    "germany_df['country'] = 'Germany'\n",
    "\n",
    "# Get the complete list of columns across both datasets\n",
    "all_columns = list(set(usa_df.columns).union(set(germany_df.columns)))\n",
    "\n",
    "# Reindex both DataFrames to have the same columns\n",
    "usa_df = usa_df.reindex(columns=all_columns)\n",
    "germany_df = germany_df.reindex(columns=all_columns)\n",
    "\n",
    "# Merge the two datasets (stacking rows)\n",
    "merged_df = pd.concat([usa_df, germany_df], ignore_index=True)\n",
    "\n",
    "# Display the merged DataFrame\n",
    "print(merged_df)\n",
    "\n"
   ]
  }
 ],
 "metadata": {
  "language_info": {
   "name": "python"
  }
 },
 "nbformat": 4,
 "nbformat_minor": 2
}
